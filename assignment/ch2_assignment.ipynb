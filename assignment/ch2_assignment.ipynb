{
  "nbformat": 4,
  "nbformat_minor": 0,
  "metadata": {
    "colab": {
      "name": "ch2_assignment.ipynb",
      "provenance": [],
      "collapsed_sections": []
    },
    "kernelspec": {
      "name": "python3",
      "display_name": "Python 3"
    },
    "language_info": {
      "name": "python"
    }
  },
  "cells": [
    {
      "cell_type": "markdown",
      "metadata": {
        "id": "-v9eGNXgencA"
      },
      "source": [
        "# 2과 과제\n",
        "## 1번\n",
        "### SMOTE와 ADASYN에서 k-neighbors를 조절하여 변화에 대해 논의하라."
      ]
    },
    {
      "cell_type": "markdown",
      "metadata": {
        "id": "sSKkbkzvKUNa"
      },
      "source": [
        "- SMOTE : https://imbalanced-learn.org/stable/references/generated/imblearn.over_sampling.SMOTE.html\n",
        "- ADASYN : https://imbalanced-learn.org/stable/references/generated/imblearn.over_sampling.ADASYN.html"
      ]
    },
    {
      "cell_type": "code",
      "metadata": {
        "id": "6YvRpbTOS9gA",
        "colab": {
          "base_uri": "https://localhost:8080/"
        },
        "outputId": "c0be7f78-133e-4531-dd40-d692b97af116"
      },
      "source": [
        "from collections import Counter\n",
        "from sklearn.datasets import make_classification\n",
        "from imblearn.over_sampling import SMOTE, ADASYN"
      ],
      "execution_count": 1,
      "outputs": [
        {
          "output_type": "stream",
          "name": "stderr",
          "text": [
            "/usr/local/lib/python3.7/dist-packages/sklearn/externals/six.py:31: FutureWarning: The module is deprecated in version 0.21 and will be removed in version 0.23 since we've dropped support for Python 2.7. Please rely on the official version of six (https://pypi.org/project/six/).\n",
            "  \"(https://pypi.org/project/six/).\", FutureWarning)\n",
            "/usr/local/lib/python3.7/dist-packages/sklearn/utils/deprecation.py:144: FutureWarning: The sklearn.neighbors.base module is  deprecated in version 0.22 and will be removed in version 0.24. The corresponding classes / functions should instead be imported from sklearn.neighbors. Anything that cannot be imported from sklearn.neighbors is now part of the private API.\n",
            "  warnings.warn(message, FutureWarning)\n"
          ]
        }
      ]
    },
    {
      "cell_type": "code",
      "metadata": {
        "id": "sJa6DahNe5hA",
        "colab": {
          "base_uri": "https://localhost:8080/"
        },
        "outputId": "af2432e9-3531-4778-9b4d-08fd1fe0ee14"
      },
      "source": [
        "X, y = make_classification(n_classes=3, weights=[0.03, 0.07, 0.9], n_features=10,\n",
        "                           n_clusters_per_class=1, n_samples=2000, random_state=10)\n",
        "\n",
        "print('Original dataset shape %s' % Counter(y))"
      ],
      "execution_count": 2,
      "outputs": [
        {
          "output_type": "stream",
          "name": "stdout",
          "text": [
            "Original dataset shape Counter({2: 1795, 1: 141, 0: 64})\n"
          ]
        }
      ]
    },
    {
      "cell_type": "code",
      "metadata": {
        "id": "f5rZTlMaKy20"
      },
      "source": [
        "smote_class_0 = []\n",
        "smote_class_1 = []\n",
        "smote_class_2 = []\n",
        "\n",
        "def smote_k(knum):\n",
        "  sm = SMOTE(random_state=42, k_neighbors=knum)\n",
        "  X_res, y_res = sm.fit_resample(X, y)\n",
        "  y_res_sorted = sorted(Counter(y_res).items())\n",
        "  smote_class_0.append(y_res_sorted[0][1])\n",
        "  smote_class_1.append(y_res_sorted[1][1])\n",
        "  smote_class_2.append(y_res_sorted[2][1])\n",
        "  print('SMOTE k_neighbors = %s 일 때의 데이터 분포 : %s' % (knum, y_res_sorted))"
      ],
      "execution_count": 3,
      "outputs": []
    },
    {
      "cell_type": "code",
      "metadata": {
        "colab": {
          "base_uri": "https://localhost:8080/"
        },
        "id": "jaShurhTH53v",
        "outputId": "11a891d1-3984-4812-f800-b9a8ac6cf6dc"
      },
      "source": [
        "for i in range(1, 11):\n",
        "  smote_k(i)"
      ],
      "execution_count": 4,
      "outputs": [
        {
          "output_type": "stream",
          "name": "stderr",
          "text": [
            "/usr/local/lib/python3.7/dist-packages/sklearn/utils/deprecation.py:87: FutureWarning: Function safe_indexing is deprecated; safe_indexing is deprecated in version 0.22 and will be removed in version 0.24.\n",
            "  warnings.warn(msg, category=FutureWarning)\n",
            "/usr/local/lib/python3.7/dist-packages/sklearn/utils/deprecation.py:87: FutureWarning: Function safe_indexing is deprecated; safe_indexing is deprecated in version 0.22 and will be removed in version 0.24.\n",
            "  warnings.warn(msg, category=FutureWarning)\n",
            "/usr/local/lib/python3.7/dist-packages/sklearn/utils/deprecation.py:87: FutureWarning: Function safe_indexing is deprecated; safe_indexing is deprecated in version 0.22 and will be removed in version 0.24.\n",
            "  warnings.warn(msg, category=FutureWarning)\n",
            "/usr/local/lib/python3.7/dist-packages/sklearn/utils/deprecation.py:87: FutureWarning: Function safe_indexing is deprecated; safe_indexing is deprecated in version 0.22 and will be removed in version 0.24.\n",
            "  warnings.warn(msg, category=FutureWarning)\n",
            "/usr/local/lib/python3.7/dist-packages/sklearn/utils/deprecation.py:87: FutureWarning: Function safe_indexing is deprecated; safe_indexing is deprecated in version 0.22 and will be removed in version 0.24.\n",
            "  warnings.warn(msg, category=FutureWarning)\n",
            "/usr/local/lib/python3.7/dist-packages/sklearn/utils/deprecation.py:87: FutureWarning: Function safe_indexing is deprecated; safe_indexing is deprecated in version 0.22 and will be removed in version 0.24.\n",
            "  warnings.warn(msg, category=FutureWarning)\n",
            "/usr/local/lib/python3.7/dist-packages/sklearn/utils/deprecation.py:87: FutureWarning: Function safe_indexing is deprecated; safe_indexing is deprecated in version 0.22 and will be removed in version 0.24.\n",
            "  warnings.warn(msg, category=FutureWarning)\n",
            "/usr/local/lib/python3.7/dist-packages/sklearn/utils/deprecation.py:87: FutureWarning: Function safe_indexing is deprecated; safe_indexing is deprecated in version 0.22 and will be removed in version 0.24.\n",
            "  warnings.warn(msg, category=FutureWarning)\n",
            "/usr/local/lib/python3.7/dist-packages/sklearn/utils/deprecation.py:87: FutureWarning: Function safe_indexing is deprecated; safe_indexing is deprecated in version 0.22 and will be removed in version 0.24.\n",
            "  warnings.warn(msg, category=FutureWarning)\n",
            "/usr/local/lib/python3.7/dist-packages/sklearn/utils/deprecation.py:87: FutureWarning: Function safe_indexing is deprecated; safe_indexing is deprecated in version 0.22 and will be removed in version 0.24.\n",
            "  warnings.warn(msg, category=FutureWarning)\n",
            "/usr/local/lib/python3.7/dist-packages/sklearn/utils/deprecation.py:87: FutureWarning: Function safe_indexing is deprecated; safe_indexing is deprecated in version 0.22 and will be removed in version 0.24.\n",
            "  warnings.warn(msg, category=FutureWarning)\n",
            "/usr/local/lib/python3.7/dist-packages/sklearn/utils/deprecation.py:87: FutureWarning: Function safe_indexing is deprecated; safe_indexing is deprecated in version 0.22 and will be removed in version 0.24.\n",
            "  warnings.warn(msg, category=FutureWarning)\n",
            "/usr/local/lib/python3.7/dist-packages/sklearn/utils/deprecation.py:87: FutureWarning: Function safe_indexing is deprecated; safe_indexing is deprecated in version 0.22 and will be removed in version 0.24.\n",
            "  warnings.warn(msg, category=FutureWarning)\n",
            "/usr/local/lib/python3.7/dist-packages/sklearn/utils/deprecation.py:87: FutureWarning: Function safe_indexing is deprecated; safe_indexing is deprecated in version 0.22 and will be removed in version 0.24.\n",
            "  warnings.warn(msg, category=FutureWarning)\n",
            "/usr/local/lib/python3.7/dist-packages/sklearn/utils/deprecation.py:87: FutureWarning: Function safe_indexing is deprecated; safe_indexing is deprecated in version 0.22 and will be removed in version 0.24.\n",
            "  warnings.warn(msg, category=FutureWarning)\n",
            "/usr/local/lib/python3.7/dist-packages/sklearn/utils/deprecation.py:87: FutureWarning: Function safe_indexing is deprecated; safe_indexing is deprecated in version 0.22 and will be removed in version 0.24.\n",
            "  warnings.warn(msg, category=FutureWarning)\n"
          ]
        },
        {
          "output_type": "stream",
          "name": "stdout",
          "text": [
            "SMOTE k_neighbors = 1 일 때의 데이터 분포 : [(0, 1795), (1, 1795), (2, 1795)]\n",
            "SMOTE k_neighbors = 2 일 때의 데이터 분포 : [(0, 1795), (1, 1795), (2, 1795)]\n",
            "SMOTE k_neighbors = 3 일 때의 데이터 분포 : [(0, 1795), (1, 1795), (2, 1795)]\n",
            "SMOTE k_neighbors = 4 일 때의 데이터 분포 : [(0, 1795), (1, 1795), (2, 1795)]\n",
            "SMOTE k_neighbors = 5 일 때의 데이터 분포 : [(0, 1795), (1, 1795), (2, 1795)]\n",
            "SMOTE k_neighbors = 6 일 때의 데이터 분포 : [(0, 1795), (1, 1795), (2, 1795)]\n",
            "SMOTE k_neighbors = 7 일 때의 데이터 분포 : [(0, 1795), (1, 1795), (2, 1795)]\n",
            "SMOTE k_neighbors = 8 일 때의 데이터 분포 : [(0, 1795), (1, 1795), (2, 1795)]\n",
            "SMOTE k_neighbors = 9 일 때의 데이터 분포 : [(0, 1795), (1, 1795), (2, 1795)]\n",
            "SMOTE k_neighbors = 10 일 때의 데이터 분포 : [(0, 1795), (1, 1795), (2, 1795)]\n"
          ]
        },
        {
          "output_type": "stream",
          "name": "stderr",
          "text": [
            "/usr/local/lib/python3.7/dist-packages/sklearn/utils/deprecation.py:87: FutureWarning: Function safe_indexing is deprecated; safe_indexing is deprecated in version 0.22 and will be removed in version 0.24.\n",
            "  warnings.warn(msg, category=FutureWarning)\n",
            "/usr/local/lib/python3.7/dist-packages/sklearn/utils/deprecation.py:87: FutureWarning: Function safe_indexing is deprecated; safe_indexing is deprecated in version 0.22 and will be removed in version 0.24.\n",
            "  warnings.warn(msg, category=FutureWarning)\n",
            "/usr/local/lib/python3.7/dist-packages/sklearn/utils/deprecation.py:87: FutureWarning: Function safe_indexing is deprecated; safe_indexing is deprecated in version 0.22 and will be removed in version 0.24.\n",
            "  warnings.warn(msg, category=FutureWarning)\n",
            "/usr/local/lib/python3.7/dist-packages/sklearn/utils/deprecation.py:87: FutureWarning: Function safe_indexing is deprecated; safe_indexing is deprecated in version 0.22 and will be removed in version 0.24.\n",
            "  warnings.warn(msg, category=FutureWarning)\n"
          ]
        }
      ]
    },
    {
      "cell_type": "code",
      "metadata": {
        "colab": {
          "base_uri": "https://localhost:8080/",
          "height": 395
        },
        "id": "c4H2pESoxKNC",
        "outputId": "4da74447-07e4-41b5-8897-8f959815b9eb"
      },
      "source": [
        "import matplotlib.pyplot as plt\n",
        "\n",
        "x_axis = [i for i in range(1, 11)]\n",
        "\n",
        "fig = plt.figure(figsize=(6, 6))\n",
        "ax = fig.add_subplot()\n",
        "\n",
        "ax.plot(x_axis, smote_class_0, marker='o', label='Class 0')\n",
        "ax.plot(x_axis, smote_class_1, marker='v', label='Class 1')\n",
        "ax.plot(x_axis, smote_class_2, marker='^', label='Class 2')\n",
        "\n",
        "ax.legend()\n",
        "\n",
        "plt.title('SMOTE', fontsize=20)\n",
        "plt.show()"
      ],
      "execution_count": 5,
      "outputs": [
        {
          "output_type": "display_data",
          "data": {
            "image/png": "[encoded data removed]",
            "text/plain": [
              "<Figure size 432x432 with 1 Axes>"
            ]
          },
          "metadata": {
            "needs_background": "light"
          }
        }
      ]
    },
    {
      "cell_type": "code",
      "metadata": {
        "id": "v5BHx5SHISM8"
      },
      "source": [
        "adasyn_class_0 = []\n",
        "adasyn_class_1 = []\n",
        "adasyn_class_2 = []\n",
        "\n",
        "def adasyn_k(knum):\n",
        "  ada = ADASYN(random_state=0, n_neighbors=knum)\n",
        "  X_syn, y_syn = ada.fit_resample(X, y)\n",
        "  y_syn_sorted = sorted(Counter(y_syn).items())\n",
        "  adasyn_class_0.append(y_syn_sorted[0][1])\n",
        "  adasyn_class_1.append(y_syn_sorted[1][1])\n",
        "  adasyn_class_2.append(y_syn_sorted[2][1])\n",
        "  print('ADASYN n_neighbors = %s 일 때의 데이터 분포 : %s' % (knum, y_syn_sorted))"
      ],
      "execution_count": 6,
      "outputs": []
    },
    {
      "cell_type": "code",
      "metadata": {
        "colab": {
          "base_uri": "https://localhost:8080/"
        },
        "id": "S4wyF09nIfWJ",
        "outputId": "a4e606d9-75f2-48ac-aa12-538aa95f2644"
      },
      "source": [
        "for i in range(1, 11):\n",
        "  adasyn_k(i)"
      ],
      "execution_count": 7,
      "outputs": [
        {
          "output_type": "stream",
          "name": "stderr",
          "text": [
            "/usr/local/lib/python3.7/dist-packages/sklearn/utils/deprecation.py:87: FutureWarning: Function safe_indexing is deprecated; safe_indexing is deprecated in version 0.22 and will be removed in version 0.24.\n",
            "  warnings.warn(msg, category=FutureWarning)\n",
            "/usr/local/lib/python3.7/dist-packages/sklearn/utils/deprecation.py:87: FutureWarning: Function safe_indexing is deprecated; safe_indexing is deprecated in version 0.22 and will be removed in version 0.24.\n",
            "  warnings.warn(msg, category=FutureWarning)\n",
            "/usr/local/lib/python3.7/dist-packages/sklearn/utils/deprecation.py:87: FutureWarning: Function safe_indexing is deprecated; safe_indexing is deprecated in version 0.22 and will be removed in version 0.24.\n",
            "  warnings.warn(msg, category=FutureWarning)\n",
            "/usr/local/lib/python3.7/dist-packages/sklearn/utils/deprecation.py:87: FutureWarning: Function safe_indexing is deprecated; safe_indexing is deprecated in version 0.22 and will be removed in version 0.24.\n",
            "  warnings.warn(msg, category=FutureWarning)\n",
            "/usr/local/lib/python3.7/dist-packages/sklearn/utils/deprecation.py:87: FutureWarning: Function safe_indexing is deprecated; safe_indexing is deprecated in version 0.22 and will be removed in version 0.24.\n",
            "  warnings.warn(msg, category=FutureWarning)\n",
            "/usr/local/lib/python3.7/dist-packages/sklearn/utils/deprecation.py:87: FutureWarning: Function safe_indexing is deprecated; safe_indexing is deprecated in version 0.22 and will be removed in version 0.24.\n",
            "  warnings.warn(msg, category=FutureWarning)\n",
            "/usr/local/lib/python3.7/dist-packages/sklearn/utils/deprecation.py:87: FutureWarning: Function safe_indexing is deprecated; safe_indexing is deprecated in version 0.22 and will be removed in version 0.24.\n",
            "  warnings.warn(msg, category=FutureWarning)\n",
            "/usr/local/lib/python3.7/dist-packages/sklearn/utils/deprecation.py:87: FutureWarning: Function safe_indexing is deprecated; safe_indexing is deprecated in version 0.22 and will be removed in version 0.24.\n",
            "  warnings.warn(msg, category=FutureWarning)\n",
            "/usr/local/lib/python3.7/dist-packages/sklearn/utils/deprecation.py:87: FutureWarning: Function safe_indexing is deprecated; safe_indexing is deprecated in version 0.22 and will be removed in version 0.24.\n",
            "  warnings.warn(msg, category=FutureWarning)\n",
            "/usr/local/lib/python3.7/dist-packages/sklearn/utils/deprecation.py:87: FutureWarning: Function safe_indexing is deprecated; safe_indexing is deprecated in version 0.22 and will be removed in version 0.24.\n",
            "  warnings.warn(msg, category=FutureWarning)\n",
            "/usr/local/lib/python3.7/dist-packages/sklearn/utils/deprecation.py:87: FutureWarning: Function safe_indexing is deprecated; safe_indexing is deprecated in version 0.22 and will be removed in version 0.24.\n",
            "  warnings.warn(msg, category=FutureWarning)\n",
            "/usr/local/lib/python3.7/dist-packages/sklearn/utils/deprecation.py:87: FutureWarning: Function safe_indexing is deprecated; safe_indexing is deprecated in version 0.22 and will be removed in version 0.24.\n",
            "  warnings.warn(msg, category=FutureWarning)\n"
          ]
        },
        {
          "output_type": "stream",
          "name": "stdout",
          "text": [
            "ADASYN n_neighbors = 1 일 때의 데이터 분포 : [(0, 1800), (1, 1792), (2, 1795)]\n",
            "ADASYN n_neighbors = 2 일 때의 데이터 분포 : [(0, 1792), (1, 1801), (2, 1795)]\n",
            "ADASYN n_neighbors = 3 일 때의 데이터 분포 : [(0, 1796), (1, 1788), (2, 1795)]\n",
            "ADASYN n_neighbors = 4 일 때의 데이터 분포 : [(0, 1796), (1, 1789), (2, 1795)]\n",
            "ADASYN n_neighbors = 5 일 때의 데이터 분포 : [(0, 1795), (1, 1805), (2, 1795)]\n",
            "ADASYN n_neighbors = 6 일 때의 데이터 분포 : [(0, 1804), (1, 1787), (2, 1795)]\n",
            "ADASYN n_neighbors = 7 일 때의 데이터 분포 : [(0, 1788), (1, 1791), (2, 1795)]\n",
            "ADASYN n_neighbors = 8 일 때의 데이터 분포 : [(0, 1790), (1, 1801), (2, 1795)]\n",
            "ADASYN n_neighbors = 9 일 때의 데이터 분포 : [(0, 1804), (1, 1788), (2, 1795)]\n",
            "ADASYN n_neighbors = 10 일 때의 데이터 분포 : [(0, 1806), (1, 1804), (2, 1795)]\n"
          ]
        },
        {
          "output_type": "stream",
          "name": "stderr",
          "text": [
            "/usr/local/lib/python3.7/dist-packages/sklearn/utils/deprecation.py:87: FutureWarning: Function safe_indexing is deprecated; safe_indexing is deprecated in version 0.22 and will be removed in version 0.24.\n",
            "  warnings.warn(msg, category=FutureWarning)\n",
            "/usr/local/lib/python3.7/dist-packages/sklearn/utils/deprecation.py:87: FutureWarning: Function safe_indexing is deprecated; safe_indexing is deprecated in version 0.22 and will be removed in version 0.24.\n",
            "  warnings.warn(msg, category=FutureWarning)\n",
            "/usr/local/lib/python3.7/dist-packages/sklearn/utils/deprecation.py:87: FutureWarning: Function safe_indexing is deprecated; safe_indexing is deprecated in version 0.22 and will be removed in version 0.24.\n",
            "  warnings.warn(msg, category=FutureWarning)\n",
            "/usr/local/lib/python3.7/dist-packages/sklearn/utils/deprecation.py:87: FutureWarning: Function safe_indexing is deprecated; safe_indexing is deprecated in version 0.22 and will be removed in version 0.24.\n",
            "  warnings.warn(msg, category=FutureWarning)\n",
            "/usr/local/lib/python3.7/dist-packages/sklearn/utils/deprecation.py:87: FutureWarning: Function safe_indexing is deprecated; safe_indexing is deprecated in version 0.22 and will be removed in version 0.24.\n",
            "  warnings.warn(msg, category=FutureWarning)\n",
            "/usr/local/lib/python3.7/dist-packages/sklearn/utils/deprecation.py:87: FutureWarning: Function safe_indexing is deprecated; safe_indexing is deprecated in version 0.22 and will be removed in version 0.24.\n",
            "  warnings.warn(msg, category=FutureWarning)\n",
            "/usr/local/lib/python3.7/dist-packages/sklearn/utils/deprecation.py:87: FutureWarning: Function safe_indexing is deprecated; safe_indexing is deprecated in version 0.22 and will be removed in version 0.24.\n",
            "  warnings.warn(msg, category=FutureWarning)\n",
            "/usr/local/lib/python3.7/dist-packages/sklearn/utils/deprecation.py:87: FutureWarning: Function safe_indexing is deprecated; safe_indexing is deprecated in version 0.22 and will be removed in version 0.24.\n",
            "  warnings.warn(msg, category=FutureWarning)\n"
          ]
        }
      ]
    },
    {
      "cell_type": "code",
      "metadata": {
        "colab": {
          "base_uri": "https://localhost:8080/",
          "height": 395
        },
        "id": "7uszHKWdOI8v",
        "outputId": "2535f451-9f36-4ea9-f775-fe646639dc51"
      },
      "source": [
        "import matplotlib.pyplot as plt\n",
        "\n",
        "x_axis = [i for i in range(1, 11)]\n",
        "\n",
        "fig = plt.figure(figsize=(6, 6))\n",
        "ax = fig.add_subplot()\n",
        "\n",
        "ax.plot(x_axis, adasyn_class_0, marker='o', label='Class 0')\n",
        "ax.plot(x_axis, adasyn_class_1, marker='v', label='Class 1')\n",
        "ax.plot(x_axis, adasyn_class_2, marker='^', label='Class 2')\n",
        "\n",
        "ax.legend()\n",
        "\n",
        "plt.title('ADASYN', fontsize=20)\n",
        "plt.show()"
      ],
      "execution_count": 8,
      "outputs": [
        {
          "output_type": "display_data",
          "data": {
            "image/png": "[encoded data removed]",
            "text/plain": [
              "<Figure size 432x432 with 1 Axes>"
            ]
          },
          "metadata": {
            "needs_background": "light"
          }
        }
      ]
    },
    {
      "cell_type": "markdown",
      "metadata": {
        "id": "umeU7iKuewyH"
      },
      "source": [
        "## 2번\n",
        "### 특성변수의 선택에서 교재에 있는 digit 데이터를 이용하여 목적변수가 분류일 때 chi2, f_classif, 그리고 mutual_info_classif를 적용한 결과를 비교하라."
      ]
    },
    {
      "cell_type": "markdown",
      "metadata": {
        "id": "g1hDTmpPzSau"
      },
      "source": [
        "- load_digits : https://scikit-learn.org/stable/modules/generated/sklearn.datasets.load_digits.html\n",
        "- Load and return the digits dataset (classification).\n",
        "- Each datapoint is a 8x8 image of a digit.\n",
        "- Classes : 10\n",
        "- Samples per class : ~180\n",
        "- Samples Total : 1797\n",
        "- Dimensionality : 64\n",
        "- Features : integers 0-16"
      ]
    },
    {
      "cell_type": "code",
      "metadata": {
        "colab": {
          "base_uri": "https://localhost:8080/"
        },
        "id": "n2djUfxwS9od",
        "outputId": "28a06bc6-a21a-47e7-a6fa-9bdcbd7c14a2"
      },
      "source": [
        "from sklearn.datasets import load_digits\n",
        "from sklearn.feature_selection import SelectKBest, chi2, f_classif, mutual_info_classif\n",
        "\n",
        "x, y = load_digits(return_X_y=True)\n",
        "x.shape"
      ],
      "execution_count": 9,
      "outputs": [
        {
          "output_type": "execute_result",
          "data": {
            "text/plain": [
              "(1797, 64)"
            ]
          },
          "metadata": {},
          "execution_count": 9
        }
      ]
    },
    {
      "cell_type": "code",
      "metadata": {
        "colab": {
          "base_uri": "https://localhost:8080/"
        },
        "id": "JWcsP0SZS9sZ",
        "outputId": "406c7227-f1ad-4787-9ff4-cfb8f542881c"
      },
      "source": [
        "x"
      ],
      "execution_count": 10,
      "outputs": [
        {
          "output_type": "execute_result",
          "data": {
            "text/plain": [
              "array([[ 0.,  0.,  5., ...,  0.,  0.,  0.],\n",
              "       [ 0.,  0.,  0., ..., 10.,  0.,  0.],\n",
              "       [ 0.,  0.,  0., ..., 16.,  9.,  0.],\n",
              "       ...,\n",
              "       [ 0.,  0.,  1., ...,  6.,  0.,  0.],\n",
              "       [ 0.,  0.,  2., ..., 12.,  0.,  0.],\n",
              "       [ 0.,  0., 10., ..., 12.,  1.,  0.]])"
            ]
          },
          "metadata": {},
          "execution_count": 10
        }
      ]
    },
    {
      "cell_type": "code",
      "metadata": {
        "colab": {
          "base_uri": "https://localhost:8080/"
        },
        "id": "QEcmvUsmfY27",
        "outputId": "4706587a-b050-4c12-db2c-11dddfca6f47"
      },
      "source": [
        "y.shape"
      ],
      "execution_count": 11,
      "outputs": [
        {
          "output_type": "execute_result",
          "data": {
            "text/plain": [
              "(1797,)"
            ]
          },
          "metadata": {},
          "execution_count": 11
        }
      ]
    },
    {
      "cell_type": "code",
      "metadata": {
        "colab": {
          "base_uri": "https://localhost:8080/"
        },
        "id": "zzogc034fbvb",
        "outputId": "59407458-f3ee-4cf3-b8fe-966980132943"
      },
      "source": [
        "y"
      ],
      "execution_count": 12,
      "outputs": [
        {
          "output_type": "execute_result",
          "data": {
            "text/plain": [
              "array([0, 1, 2, ..., 8, 9, 8])"
            ]
          },
          "metadata": {},
          "execution_count": 12
        }
      ]
    },
    {
      "cell_type": "code",
      "metadata": {
        "colab": {
          "base_uri": "https://localhost:8080/"
        },
        "id": "e_t2qnM3fbxl",
        "outputId": "18e39d8c-a7b6-4ab9-92dc-b84727058ffa"
      },
      "source": [
        "sb1 = SelectKBest(score_func=chi2, k=20)\n",
        "x_new_1 = sb1.fit_transform(x, y)\n",
        "x_new_1.shape"
      ],
      "execution_count": 13,
      "outputs": [
        {
          "output_type": "execute_result",
          "data": {
            "text/plain": [
              "(1797, 20)"
            ]
          },
          "metadata": {},
          "execution_count": 13
        }
      ]
    },
    {
      "cell_type": "code",
      "metadata": {
        "colab": {
          "base_uri": "https://localhost:8080/"
        },
        "id": "EdZxesy_mujt",
        "outputId": "3a0dc105-bed6-42db-c088-72f6935732e3"
      },
      "source": [
        "x_new_1"
      ],
      "execution_count": 14,
      "outputs": [
        {
          "output_type": "execute_result",
          "data": {
            "text/plain": [
              "array([[ 1.,  0., 15., ...,  6.,  0.,  0.],\n",
              "       [ 5.,  0.,  9., ...,  0., 10.,  0.],\n",
              "       [12.,  0., 14., ...,  0., 16.,  9.],\n",
              "       ...,\n",
              "       [ 1.,  0.,  2., ...,  2.,  6.,  0.],\n",
              "       [ 0.,  0., 15., ...,  5., 12.,  0.],\n",
              "       [ 1.,  0.,  1., ...,  8., 12.,  1.]])"
            ]
          },
          "metadata": {},
          "execution_count": 14
        }
      ]
    },
    {
      "cell_type": "code",
      "metadata": {
        "colab": {
          "base_uri": "https://localhost:8080/"
        },
        "id": "XSZMPA5E10YS",
        "outputId": "4b95bf1e-68f9-40ee-f5cc-7f6dae24f5b0"
      },
      "source": [
        "print(x_new_1[:3])"
      ],
      "execution_count": 15,
      "outputs": [
        {
          "output_type": "stream",
          "name": "stdout",
          "text": [
            "[[ 1.  0. 15.  2.  0. 11. 12.  0.  8.  5.  8.  4. 11.  0.  1.  7.  0.  6.\n",
            "   0.  0.]\n",
            " [ 5.  0.  9. 15. 16.  6. 15. 16.  0.  0.  1.  0.  1. 16. 16.  0.  0.  0.\n",
            "  10.  0.]\n",
            " [12.  0. 14. 13.  8. 16.  1. 15.  0.  1.  8.  9. 16. 16.  5.  0.  5.  0.\n",
            "  16.  9.]]\n"
          ]
        }
      ]
    },
    {
      "cell_type": "code",
      "metadata": {
        "colab": {
          "base_uri": "https://localhost:8080/"
        },
        "id": "pPaR6v8RfY48",
        "outputId": "e3071d0d-302d-44a6-95dd-e78edab49713"
      },
      "source": [
        "sb2 = SelectKBest(score_func=f_classif, k=20)\n",
        "x_new_2 = sb2.fit_transform(x, y)\n",
        "x_new_2.shape"
      ],
      "execution_count": 16,
      "outputs": [
        {
          "output_type": "stream",
          "name": "stderr",
          "text": [
            "/usr/local/lib/python3.7/dist-packages/sklearn/feature_selection/_univariate_selection.py:114: UserWarning: Features [ 0 32 39] are constant.\n",
            "  UserWarning)\n",
            "/usr/local/lib/python3.7/dist-packages/sklearn/feature_selection/_univariate_selection.py:115: RuntimeWarning: invalid value encountered in true_divide\n",
            "  f = msb / msw\n"
          ]
        },
        {
          "output_type": "execute_result",
          "data": {
            "text/plain": [
              "(1797, 20)"
            ]
          },
          "metadata": {},
          "execution_count": 16
        }
      ]
    },
    {
      "cell_type": "code",
      "metadata": {
        "colab": {
          "base_uri": "https://localhost:8080/"
        },
        "id": "ouDTXZ1gmvsO",
        "outputId": "0ef0cee3-1220-4134-f9bd-a2b7968a9e4c"
      },
      "source": [
        "x_new_2"
      ],
      "execution_count": 17,
      "outputs": [
        {
          "output_type": "execute_result",
          "data": {
            "text/plain": [
              "array([[ 5., 13., 15., ...,  6., 10.,  0.],\n",
              "       [ 0.,  0.,  9., ...,  0., 16., 10.],\n",
              "       [ 0.,  3., 14., ...,  0., 11., 16.],\n",
              "       ...,\n",
              "       [ 1., 13.,  2., ...,  2., 13.,  6.],\n",
              "       [ 2., 14., 15., ...,  5., 16., 12.],\n",
              "       [10., 16.,  1., ...,  8., 14., 12.]])"
            ]
          },
          "metadata": {},
          "execution_count": 17
        }
      ]
    },
    {
      "cell_type": "code",
      "metadata": {
        "colab": {
          "base_uri": "https://localhost:8080/"
        },
        "id": "msA-mCar15gS",
        "outputId": "bedec4dc-f706-419f-c6b9-3d415051caf4"
      },
      "source": [
        "print(x_new_2[:3])"
      ],
      "execution_count": 18,
      "outputs": [
        {
          "output_type": "stream",
          "name": "stdout",
          "text": [
            "[[ 5. 13. 15.  0. 11. 12.  0.  8.  5.  8.  0.  8. 11.  0.  1.  7.  0.  6.\n",
            "  10.  0.]\n",
            " [ 0.  0.  9. 16.  6. 15. 16.  0.  0.  1. 16.  0.  1. 16. 16.  0.  0.  0.\n",
            "  16. 10.]\n",
            " [ 0.  3. 14.  8. 16.  1. 15.  0.  1.  8. 15.  0. 16. 16.  5.  0.  5.  0.\n",
            "  11. 16.]]\n"
          ]
        }
      ]
    },
    {
      "cell_type": "code",
      "metadata": {
        "colab": {
          "base_uri": "https://localhost:8080/"
        },
        "id": "Ad1o9enzfY6-",
        "outputId": "50d281c2-fc56-4bf2-9798-60d37a0a0d12"
      },
      "source": [
        "sb3 = SelectKBest(score_func=mutual_info_classif, k=20)\n",
        "x_new_3 = sb3.fit_transform(x, y)\n",
        "x_new_3.shape"
      ],
      "execution_count": 19,
      "outputs": [
        {
          "output_type": "execute_result",
          "data": {
            "text/plain": [
              "(1797, 20)"
            ]
          },
          "metadata": {},
          "execution_count": 19
        }
      ]
    },
    {
      "cell_type": "code",
      "metadata": {
        "colab": {
          "base_uri": "https://localhost:8080/"
        },
        "id": "l9J7MUM4mlmk",
        "outputId": "7500180b-5991-4da4-add0-80598c636dae"
      },
      "source": [
        "x_new_3"
      ],
      "execution_count": 20,
      "outputs": [
        {
          "output_type": "execute_result",
          "data": {
            "text/plain": [
              "array([[ 5., 13., 15., ...,  6., 10.,  0.],\n",
              "       [ 0.,  0.,  9., ...,  0., 16., 10.],\n",
              "       [ 0.,  3., 14., ...,  0., 11., 16.],\n",
              "       ...,\n",
              "       [ 1., 13.,  2., ...,  2., 13.,  6.],\n",
              "       [ 2., 14., 15., ...,  5., 16., 12.],\n",
              "       [10., 16.,  1., ...,  8., 14., 12.]])"
            ]
          },
          "metadata": {},
          "execution_count": 20
        }
      ]
    },
    {
      "cell_type": "code",
      "metadata": {
        "id": "9512WAqWmloz",
        "colab": {
          "base_uri": "https://localhost:8080/"
        },
        "outputId": "afe44a01-0ca3-4f69-9ba1-7d64e24339ba"
      },
      "source": [
        "print(x_new_3[:3])"
      ],
      "execution_count": 21,
      "outputs": [
        {
          "output_type": "stream",
          "name": "stdout",
          "text": [
            "[[ 5. 13. 15.  0. 11. 12.  0.  8.  5.  8.  0.  8. 11.  0.  1. 12.  0.  6.\n",
            "  10.  0.]\n",
            " [ 0.  0.  9. 16.  6. 15. 16.  0.  0.  1. 16.  0.  1. 16. 16.  6.  0.  0.\n",
            "  16. 10.]\n",
            " [ 0.  3. 14.  8. 16.  1. 15.  0.  1.  8. 15.  0. 16. 16.  5. 11.  5.  0.\n",
            "  11. 16.]]\n"
          ]
        }
      ]
    },
    {
      "cell_type": "code",
      "metadata": {
        "id": "1R6jHgQV171g"
      },
      "source": [
        ""
      ],
      "execution_count": null,
      "outputs": []
    },
    {
      "cell_type": "code",
      "metadata": {
        "id": "WNNTnaX1176Q"
      },
      "source": [
        ""
      ],
      "execution_count": null,
      "outputs": []
    },
    {
      "cell_type": "code",
      "metadata": {
        "id": "oPqJoR_j178f"
      },
      "source": [
        ""
      ],
      "execution_count": null,
      "outputs": []
    }
  ]
}
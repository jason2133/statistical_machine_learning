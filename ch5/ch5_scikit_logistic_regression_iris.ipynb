{
 "cells": [
  {
   "cell_type": "code",
   "execution_count": 1,
   "metadata": {},
   "outputs": [],
   "source": [
    "# Seaborn을 불러오고 sns로 축약\n",
    "import seaborn as sns\n",
    "\n",
    "# IRIS라는 변수명으로 IRIS Data를 Download\n",
    "iris = sns.load_dataset('iris')"
   ]
  },
  {
   "cell_type": "code",
   "execution_count": 4,
   "metadata": {},
   "outputs": [],
   "source": [
    "# 'species' 열을 drop하고 input X를 정의\n",
    "X = iris.drop('species', axis=1)\n",
    "y = iris['species']"
   ]
  },
  {
   "cell_type": "code",
   "execution_count": 5,
   "metadata": {},
   "outputs": [],
   "source": [
    "# y data를 범주형으로 변환\n",
    "\n",
    "from sklearn.preprocessing import LabelEncoder\n",
    "classle = LabelEncoder()\n",
    "# species 열을 categorical 값으로 변환\n",
    "y = classle.fit_transform(iris['species'].values)"
   ]
  },
  {
   "cell_type": "code",
   "execution_count": 6,
   "metadata": {},
   "outputs": [],
   "source": [
    "# 전체 데이터를 Train Data와 Test Data로 분할\n",
    "\n",
    "from sklearn.model_selection import train_test_split\n",
    "X_train, X_test, y_train, y_test = train_test_split(X, y, test_size=0.3, random_state=1, stratify=y)"
   ]
  },
  {
   "cell_type": "code",
   "execution_count": 7,
   "metadata": {},
   "outputs": [
    {
     "data": {
      "text/plain": [
       "LogisticRegression(C=100.0, max_iter=200, multi_class='ovr', random_state=1)"
      ]
     },
     "execution_count": 7,
     "metadata": {},
     "output_type": "execute_result"
    }
   ],
   "source": [
    "# Logistic Regression 적용\n",
    "\n",
    "from sklearn.linear_model import LogisticRegression\n",
    "Logit = LogisticRegression(C=1e2,\n",
    "                          multi_class='ovr',\n",
    "                          random_state=1,\n",
    "                          max_iter=200\n",
    "                          )\n",
    "\n",
    "# C = 1 / ㅅ\n",
    "\n",
    "Logit.fit(X_train, y_train)"
   ]
  },
  {
   "cell_type": "code",
   "execution_count": 8,
   "metadata": {},
   "outputs": [
    {
     "name": "stdout",
     "output_type": "stream",
     "text": [
      "[2 0 0 1 1]\n",
      "[[1.58069040e-07 8.08355630e-02 9.19164279e-01]\n",
      " [9.80729791e-01 1.92702092e-02 1.44032616e-16]\n",
      " [8.83660214e-01 1.16339786e-01 1.09742723e-16]\n",
      " [1.10125474e-05 6.10622960e-01 3.89366027e-01]\n",
      " [1.69869263e-04 9.94696666e-01 5.13346497e-03]]\n"
     ]
    }
   ],
   "source": [
    "y_train_pred = Logit.predict(X_train)\n",
    "y_test_pred = Logit.predict(X_test)\n",
    "y_test_pred_proba = Logit.predict_proba(X_test)\n",
    "print(y_test_pred[:5])\n",
    "print(y_test_pred_proba[:5])"
   ]
  },
  {
   "cell_type": "code",
   "execution_count": 9,
   "metadata": {},
   "outputs": [
    {
     "name": "stdout",
     "output_type": "stream",
     "text": [
      "0.9523809523809523\n",
      "0.9777777777777777\n"
     ]
    }
   ],
   "source": [
    "# Accuracy Score\n",
    "from sklearn.metrics import accuracy_score\n",
    "print(accuracy_score(y_train, y_train_pred))\n",
    "print(accuracy_score(y_test, y_test_pred))"
   ]
  },
  {
   "cell_type": "code",
   "execution_count": 10,
   "metadata": {},
   "outputs": [
    {
     "name": "stdout",
     "output_type": "stream",
     "text": [
      "[[15  0  0]\n",
      " [ 0 15  0]\n",
      " [ 0  1 14]]\n"
     ]
    }
   ],
   "source": [
    "# Test Data의 정확도 행렬 Confusion Matrix\n",
    "\n",
    "from sklearn.metrics import confusion_matrix\n",
    "\n",
    "# Confusion Matrix\n",
    "print(confusion_matrix(y_test, y_test_pred))"
   ]
  },
  {
   "cell_type": "code",
   "execution_count": null,
   "metadata": {},
   "outputs": [],
   "source": []
  },
  {
   "cell_type": "code",
   "execution_count": null,
   "metadata": {},
   "outputs": [],
   "source": []
  }
 ],
 "metadata": {
  "kernelspec": {
   "display_name": "Python 3",
   "language": "python",
   "name": "python3"
  },
  "language_info": {
   "codemirror_mode": {
    "name": "ipython",
    "version": 3
   },
   "file_extension": ".py",
   "mimetype": "text/x-python",
   "name": "python",
   "nbconvert_exporter": "python",
   "pygments_lexer": "ipython3",
   "version": "3.7.6"
  }
 },
 "nbformat": 4,
 "nbformat_minor": 4
}

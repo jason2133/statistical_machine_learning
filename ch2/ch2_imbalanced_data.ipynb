{
  "nbformat": 4,
  "nbformat_minor": 0,
  "metadata": {
    "colab": {
      "name": "ch2_imbalanced_data.ipynb",
      "provenance": [],
      "collapsed_sections": []
    },
    "kernelspec": {
      "name": "python3",
      "display_name": "Python 3"
    },
    "language_info": {
      "name": "python"
    }
  },
  "cells": [
    {
      "cell_type": "markdown",
      "metadata": {
        "id": "5PZ5luhV24nd"
      },
      "source": [
        "# 불군형자료 - Imbalanced Data\n",
        "### 불균형자료\n",
        "- 특정 클래스의 관측치가 다른 클래스에 비해 매우 낮게 나타난 경우\n",
        "\n",
        "### 불균형 문제를 해결하는 방법\n",
        "#### 과소표집 (Undersampling)\n",
        "- 다수 클래스(Major Class)의 표본을 임의로 학습데이터로부터 제거하는 것\n",
        "\n",
        "#### 과대표집 (Oversampling)\n",
        "- 소수 클래스(Minor Class)의 표본을 복제하여 이를 학습데이터에 추가하는 것\n",
        "\n",
        "**-> 일반적으로는 과소표집보다는 과대표집이 통계적으로 유용함**\n",
        "\n",
        "**과소표집은 표본의 수를 줄이기 때문에 모형의 정밀도가 일반적으로 떨어지기 때문**\n",
        "\n",
        "### 과대표집\n",
        "#### 합성소수표집법 (SMOTE)\n",
        "- Synthetic Minority Oversampling Technique\n",
        "\n",
        "#### 조절합성표집법 (ADASYN)\n",
        "- Adaptive Synthetic Sampling Method\n",
        "\n",
        "#### 둘의 비교\n",
        "- SMOTE와 ADASYN은 근본적으로 같은 방법\n",
        "- 소수클래스에 속한 각각의 관측치에 대응하는 합성관측치의 생성방법에만 차이가 있음.\n",
        "- **소수클래스를 위한 합성관측치의 수는 다수클래스에 속한 관측치의 수와 같도록 생성함.**\n",
        "\n",
        "\n"
      ]
    },
    {
      "cell_type": "code",
      "metadata": {
        "colab": {
          "base_uri": "https://localhost:8080/"
        },
        "id": "0DWkD7XE2A9m",
        "outputId": "428e9c3c-a34d-49da-cd5b-f566b6f62208"
      },
      "source": [
        "!pip install imblearn"
      ],
      "execution_count": null,
      "outputs": [
        {
          "output_type": "stream",
          "name": "stdout",
          "text": [
            "Requirement already satisfied: imblearn in /usr/local/lib/python3.7/dist-packages (0.0)\n",
            "Requirement already satisfied: imbalanced-learn in /usr/local/lib/python3.7/dist-packages (from imblearn) (0.4.3)\n",
            "Requirement already satisfied: scikit-learn>=0.20 in /usr/local/lib/python3.7/dist-packages (from imbalanced-learn->imblearn) (0.22.2.post1)\n",
            "Requirement already satisfied: scipy>=0.13.3 in /usr/local/lib/python3.7/dist-packages (from imbalanced-learn->imblearn) (1.4.1)\n",
            "Requirement already satisfied: numpy>=1.8.2 in /usr/local/lib/python3.7/dist-packages (from imbalanced-learn->imblearn) (1.19.5)\n",
            "Requirement already satisfied: joblib>=0.11 in /usr/local/lib/python3.7/dist-packages (from scikit-learn>=0.20->imbalanced-learn->imblearn) (1.0.1)\n"
          ]
        }
      ]
    },
    {
      "cell_type": "code",
      "metadata": {
        "colab": {
          "base_uri": "https://localhost:8080/"
        },
        "id": "DbIHHSJE2J-2",
        "outputId": "ecd9072a-8b10-4c87-f34e-ed37b35dd349"
      },
      "source": [
        "from collections import Counter\n",
        "from sklearn.datasets import make_classification\n",
        "from imblearn.over_sampling import SMOTE, ADASYN\n",
        "\n",
        "X, y = make_classification(n_classes=3, weights=[0.03, 0.07, 0.9], n_features=10, n_clusters_per_class=1, n_samples=2000, random_state=10)\n",
        "print('Original dataset shape %s' % Counter(y))"
      ],
      "execution_count": null,
      "outputs": [
        {
          "output_type": "stream",
          "name": "stdout",
          "text": [
            "Original dataset shape Counter({2: 1795, 1: 141, 0: 64})\n"
          ]
        }
      ]
    },
    {
      "cell_type": "code",
      "metadata": {
        "colab": {
          "base_uri": "https://localhost:8080/"
        },
        "id": "Tgh_drTS2KAx",
        "outputId": "0ff85683-209a-496d-8927-1cfb457df5aa"
      },
      "source": [
        "# SMOTE\n",
        "\n",
        "sm = SMOTE(random_state=42)\n",
        "X_res, y_res = sm.fit_resample(X, y)\n",
        "print('Resampled dataset shape %s' % Counter(y_res))"
      ],
      "execution_count": null,
      "outputs": [
        {
          "output_type": "stream",
          "name": "stdout",
          "text": [
            "Resampled dataset shape Counter({2: 1795, 1: 1795, 0: 1795})\n"
          ]
        },
        {
          "output_type": "stream",
          "name": "stderr",
          "text": [
            "/usr/local/lib/python3.7/dist-packages/sklearn/utils/deprecation.py:87: FutureWarning: Function safe_indexing is deprecated; safe_indexing is deprecated in version 0.22 and will be removed in version 0.24.\n",
            "  warnings.warn(msg, category=FutureWarning)\n",
            "/usr/local/lib/python3.7/dist-packages/sklearn/utils/deprecation.py:87: FutureWarning: Function safe_indexing is deprecated; safe_indexing is deprecated in version 0.22 and will be removed in version 0.24.\n",
            "  warnings.warn(msg, category=FutureWarning)\n"
          ]
        }
      ]
    },
    {
      "cell_type": "code",
      "metadata": {
        "colab": {
          "base_uri": "https://localhost:8080/"
        },
        "id": "3yI7bSw-2KC_",
        "outputId": "22434fdf-fa97-4852-fcb0-299eec0d4761"
      },
      "source": [
        "# ADASYN\n",
        "\n",
        "ada = ADASYN(random_state=0)\n",
        "X_syn, y_syn = ada.fit_resample(X, y)\n",
        "print('Resampled dataset shape from ADASYN %s' % Counter(y_syn))"
      ],
      "execution_count": null,
      "outputs": [
        {
          "output_type": "stream",
          "name": "stdout",
          "text": [
            "Resampled dataset shape from ADASYN Counter({1: 1805, 2: 1795, 0: 1795})\n"
          ]
        },
        {
          "output_type": "stream",
          "name": "stderr",
          "text": [
            "/usr/local/lib/python3.7/dist-packages/sklearn/utils/deprecation.py:87: FutureWarning: Function safe_indexing is deprecated; safe_indexing is deprecated in version 0.22 and will be removed in version 0.24.\n",
            "  warnings.warn(msg, category=FutureWarning)\n",
            "/usr/local/lib/python3.7/dist-packages/sklearn/utils/deprecation.py:87: FutureWarning: Function safe_indexing is deprecated; safe_indexing is deprecated in version 0.22 and will be removed in version 0.24.\n",
            "  warnings.warn(msg, category=FutureWarning)\n"
          ]
        }
      ]
    },
    {
      "cell_type": "code",
      "metadata": {
        "id": "RykdZMGr2FXp"
      },
      "source": [
        ""
      ],
      "execution_count": null,
      "outputs": []
    }
  ]
}
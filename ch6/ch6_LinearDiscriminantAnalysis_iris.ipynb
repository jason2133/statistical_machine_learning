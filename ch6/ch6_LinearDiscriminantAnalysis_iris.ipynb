{
 "cells": [
  {
   "cell_type": "code",
   "execution_count": 1,
   "metadata": {},
   "outputs": [],
   "source": [
    "# seaborn을 불러옴\n",
    "import seaborn as sns\n",
    "\n",
    "# iris라는 변수명으로 iris data를 download함.\n",
    "iris = sns.load_dataset('iris')\n",
    "\n",
    "# 'species' 열을 drop하고 특성변수 X를 정의함.\n",
    "X = iris.drop('species', axis=1)\n",
    "\n",
    "# 'species' 열을 label y로 정의함.\n",
    "y = iris['species']"
   ]
  },
  {
   "cell_type": "code",
   "execution_count": 2,
   "metadata": {},
   "outputs": [],
   "source": [
    "# LabelEncoder() method를 불러옴.\n",
    "from sklearn.preprocessing import LabelEncoder\n",
    "\n",
    "classle = LabelEncoder()\n",
    "\n",
    "# species 열의 문자형을 범주형 값으로 전환\n",
    "y = classle.fit_transform(iris['species'].values)"
   ]
  },
  {
   "cell_type": "code",
   "execution_count": 3,
   "metadata": {},
   "outputs": [],
   "source": [
    "from sklearn.model_selection import train_test_split\n",
    "X_train, X_test, y_train, y_test = train_test_split(X, y, test_size=0.3, random_state=123, stratify=y)"
   ]
  },
  {
   "cell_type": "code",
   "execution_count": 4,
   "metadata": {},
   "outputs": [],
   "source": [
    "# 적합된 모형을 통해 Train Data와 Test Data의 정밀도를 출력\n",
    "\n",
    "from sklearn.discriminant_analysis import LinearDiscriminantAnalysis\n",
    "cld = LinearDiscriminantAnalysis(store_covariance=True)\n",
    "\n",
    "# LDA 적합\n",
    "cld.fit(X_train, y_train)\n",
    "\n",
    "y_train_pred = cld.predict(X_train)\n",
    "y_test_pred = cld.predict(X_test)"
   ]
  },
  {
   "cell_type": "code",
   "execution_count": 5,
   "metadata": {},
   "outputs": [
    {
     "name": "stdout",
     "output_type": "stream",
     "text": [
      "0.9714285714285714\n",
      "0.9777777777777777\n"
     ]
    }
   ],
   "source": [
    "from sklearn.metrics import accuracy_score\n",
    "\n",
    "# train data에 대한 accuracy\n",
    "print(accuracy_score(y_train, y_train_pred))\n",
    "\n",
    "# test data에 대한 accuracy\n",
    "print(accuracy_score(y_test, y_test_pred))"
   ]
  },
  {
   "cell_type": "markdown",
   "metadata": {},
   "source": [
    "### LDA의 각 판별식을 구하기 위한\n",
    "#### 특성변수 sepal_length, sepal_width, petal_length, petal_width의\n",
    "\n",
    "- 각 클래스별 평균추정치 : means_\n",
    "- 전체 평균추정치 : xbar_\n",
    "- 분산추정치 : covariance_\n",
    "- 각 클래스별 판별식의 bias : intercept_\n",
    "- 계수추정치 : coef_"
   ]
  },
  {
   "cell_type": "code",
   "execution_count": 6,
   "metadata": {},
   "outputs": [
    {
     "name": "stdout",
     "output_type": "stream",
     "text": [
      "[[5.04285714 3.43428571 1.48857143 0.26571429]\n",
      " [5.89714286 2.76       4.22857143 1.3       ]\n",
      " [6.51714286 2.92857143 5.49142857 2.00285714]]\n"
     ]
    }
   ],
   "source": [
    "# 각 클래스별 평균추정치\n",
    "print(cld.means_)"
   ]
  },
  {
   "cell_type": "code",
   "execution_count": 8,
   "metadata": {},
   "outputs": [
    {
     "name": "stdout",
     "output_type": "stream",
     "text": [
      "[5.81904762 3.04095238 3.73619048 1.18952381]\n"
     ]
    }
   ],
   "source": [
    "# 전체 평균추정치\n",
    "print(cld.xbar_)"
   ]
  },
  {
   "cell_type": "code",
   "execution_count": 9,
   "metadata": {},
   "outputs": [
    {
     "name": "stdout",
     "output_type": "stream",
     "text": [
      "[[0.24214422 0.09216599 0.13204898 0.03123537]\n",
      " [0.09216599 0.11137415 0.05049796 0.03388844]\n",
      " [0.13204898 0.05049796 0.15023129 0.03387755]\n",
      " [0.03123537 0.03388844 0.03387755 0.04198639]]\n"
     ]
    }
   ],
   "source": [
    "# 분산추정치\n",
    "print(cld.covariance_)"
   ]
  },
  {
   "cell_type": "code",
   "execution_count": 10,
   "metadata": {},
   "outputs": [
    {
     "name": "stdout",
     "output_type": "stream",
     "text": [
      "[ -7.59067635  -5.09049202 -43.13606185]\n"
     ]
    }
   ],
   "source": [
    "# 각 클래스별 판별식의 bias\n",
    "print(cld.intercept_)"
   ]
  },
  {
   "cell_type": "code",
   "execution_count": 11,
   "metadata": {},
   "outputs": [
    {
     "name": "stdout",
     "output_type": "stream",
     "text": [
      "[[  3.76019999  15.13062424 -17.99406267 -21.86481204]\n",
      " [ -0.91185753  -4.90401617   4.9041086    3.23562397]\n",
      " [ -2.84834246 -10.22660807  13.08995407  18.62918807]]\n"
     ]
    }
   ],
   "source": [
    "# 계수 추정치\n",
    "print(cld.coef_)"
   ]
  },
  {
   "cell_type": "code",
   "execution_count": 12,
   "metadata": {},
   "outputs": [
    {
     "name": "stdout",
     "output_type": "stream",
     "text": [
      "[[15  0  0]\n",
      " [ 0 14  1]\n",
      " [ 0  0 15]]\n"
     ]
    }
   ],
   "source": [
    "# Test Data에 대한 분류 결과 - Confusion Matrix\n",
    "from sklearn.metrics import confusion_matrix\n",
    "print(confusion_matrix(y_test, y_test_pred))"
   ]
  },
  {
   "cell_type": "code",
   "execution_count": 13,
   "metadata": {},
   "outputs": [
    {
     "name": "stdout",
     "output_type": "stream",
     "text": [
      "[[1.37493315e-32 5.86839618e-01 4.13160382e-01]\n",
      " [4.87880054e-42 4.08368248e-04 9.99591632e-01]\n",
      " [1.49908347e-19 9.99998532e-01 1.46841688e-06]\n",
      " [2.45317549e-24 9.97417042e-01 2.58295753e-03]\n",
      " [1.76506456e-50 1.80298359e-07 9.99999820e-01]]\n"
     ]
    }
   ],
   "source": [
    "# 각각의 행은 setosa, versicolor, virginica 순으로 분류 결과를 알려주고 있음.\n",
    "# 최초 5개의 관측치에 대해 setosa, versicolor, verginica로 분류될 확률\n",
    "\n",
    "# 확률 추정\n",
    "print(cld.predict_proba(X_test[:5]))\n",
    "\n",
    "# [1, 2, 1, 1, 2]"
   ]
  },
  {
   "cell_type": "markdown",
   "metadata": {},
   "source": [
    "### 2차판별분석 - QuadraticDiscriminantAnalysis"
   ]
  },
  {
   "cell_type": "code",
   "execution_count": 15,
   "metadata": {},
   "outputs": [
    {
     "name": "stdout",
     "output_type": "stream",
     "text": [
      "0.9809523809523809\n",
      "0.9777777777777777\n"
     ]
    }
   ],
   "source": [
    "from sklearn.discriminant_analysis import QuadraticDiscriminantAnalysis\n",
    "\n",
    "cqd = QuadraticDiscriminantAnalysis()\n",
    "\n",
    "# QDA 적합\n",
    "cqd.fit(X_train, y_train)\n",
    "\n",
    "y_train_pred = cqd.predict(X_train)\n",
    "y_test_pred = cqd.predict(X_test)\n",
    "\n",
    "from sklearn.metrics import accuracy_score\n",
    "\n",
    "# Train Data에 대한 Accuracy\n",
    "print(accuracy_score(y_train, y_train_pred))\n",
    "print(accuracy_score(y_test, y_test_pred))"
   ]
  },
  {
   "cell_type": "code",
   "execution_count": 16,
   "metadata": {},
   "outputs": [
    {
     "name": "stdout",
     "output_type": "stream",
     "text": [
      "[[15  0  0]\n",
      " [ 0 14  1]\n",
      " [ 0  0 15]]\n"
     ]
    }
   ],
   "source": [
    "# 2차판별분석 결과로 정확도 행렬 confusion matrix를 출력하여 보여줌.\n",
    "\n",
    "from sklearn.metrics import confusion_matrix\n",
    "print(confusion_matrix(y_test, y_test_pred))"
   ]
  },
  {
   "cell_type": "code",
   "execution_count": null,
   "metadata": {},
   "outputs": [],
   "source": []
  }
 ],
 "metadata": {
  "kernelspec": {
   "display_name": "Python 3",
   "language": "python",
   "name": "python3"
  },
  "language_info": {
   "codemirror_mode": {
    "name": "ipython",
    "version": 3
   },
   "file_extension": ".py",
   "mimetype": "text/x-python",
   "name": "python",
   "nbconvert_exporter": "python",
   "pygments_lexer": "ipython3",
   "version": "3.7.6"
  }
 },
 "nbformat": 4,
 "nbformat_minor": 4
}

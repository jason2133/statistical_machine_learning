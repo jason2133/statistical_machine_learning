{
 "cells": [
  {
   "cell_type": "markdown",
   "metadata": {},
   "source": [
    "## 다항단순베이즈모형\n",
    "### 인위적인 자료\n",
    "- 1~5 정수로 이루어진 6 x 20 행렬\n",
    "- 표본의 개수 : 6\n",
    "- 특성변수의 개수 : 20  \n",
    "\n",
    "#### 1. 특성변수\n",
    "- 특성변수의 개수 : 20\n",
    "- 20개의 특성변수는 다항분포를 가정\n",
    "- 특성변수의 값 : 해당 변수의 발생횟수를 의미  \n",
    "\n",
    "#### 2. 목표변수 y\n",
    "- 총 6개의 범주\n",
    "- 범주 : 1, 2, 3, 4, 5, 6 라벨 부여\n",
    "\n",
    "#### 범주별로 오직 하나의 표본만 있는 지극히 예제를 위한 예제"
   ]
  },
  {
   "cell_type": "code",
   "execution_count": 1,
   "metadata": {},
   "outputs": [
    {
     "name": "stdout",
     "output_type": "stream",
     "text": [
      "[[1 0 2]\n",
      " [1 4 0]\n",
      " [4 1 1]\n",
      " [3 4 2]\n",
      " [2 3 0]\n",
      " [2 2 0]]\n"
     ]
    }
   ],
   "source": [
    "import numpy as np\n",
    "\n",
    "X = np.random.randint(5, size=(6, 20))\n",
    "y = np.array([1, 2, 3, 4, 5, 6])\n",
    "print(X[:, :3])"
   ]
  },
  {
   "cell_type": "markdown",
   "metadata": {},
   "source": [
    "### 다항단순베이즈모형 - MultinomialNB\n",
    "- MultinomialNB을 호출하여 시행\n",
    "- 2번째 관측치에 대한 범주를 예측하는 프로그램"
   ]
  },
  {
   "cell_type": "code",
   "execution_count": 2,
   "metadata": {},
   "outputs": [
    {
     "name": "stdout",
     "output_type": "stream",
     "text": [
      "[2]\n"
     ]
    }
   ],
   "source": [
    "from sklearn.naive_bayes import MultinomialNB\n",
    "\n",
    "mnb = MultinomialNB()\n",
    "mnb.fit(X, y)\n",
    "print(mnb.predict(X[1:2,]))"
   ]
  },
  {
   "cell_type": "code",
   "execution_count": null,
   "metadata": {},
   "outputs": [],
   "source": []
  }
 ],
 "metadata": {
  "kernelspec": {
   "display_name": "Python 3",
   "language": "python",
   "name": "python3"
  },
  "language_info": {
   "codemirror_mode": {
    "name": "ipython",
    "version": 3
   },
   "file_extension": ".py",
   "mimetype": "text/x-python",
   "name": "python",
   "nbconvert_exporter": "python",
   "pygments_lexer": "ipython3",
   "version": "3.7.6"
  }
 },
 "nbformat": 4,
 "nbformat_minor": 4
}
